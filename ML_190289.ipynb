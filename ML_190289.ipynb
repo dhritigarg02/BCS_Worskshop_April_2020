{
  "nbformat": 4,
  "nbformat_minor": 0,
  "metadata": {
    "colab": {
      "name": "Dhriti_190289.ipynb",
      "provenance": [],
      "collapsed_sections": [
        "pdcQ2yqz1RYH"
      ]
    },
    "kernelspec": {
      "name": "python3",
      "display_name": "Python 3"
    },
    "accelerator": "GPU"
  },
  "cells": [
    {
      "cell_type": "markdown",
      "metadata": {
        "id": "xgTHW1jTc94u",
        "colab_type": "text"
      },
      "source": [
        "<table class=\"tfo-notebook-buttons\" align=\"left\">\n",
        "  <td>\n",
        "    <a target=\"_blank\" href=\"https://colab.research.google.com/github/bcs-iitk/BCS_Workshop_Apr_20/blob/master/Machine_Learning/Assignment/ML.ipynb\"><img src=\"https://www.tensorflow.org/images/colab_logo_32px.png\" />Run in Google Colab</a>\n",
        "  </td>\n",
        "  <td>\n",
        "    <a target=\"_blank\" href=\"https://github.com/bcs-iitk/BCS_Workshop_Apr_20/blob/master/Machine_Learning/Assignment/ML.ipynb\"><img src=\"https://www.tensorflow.org/images/GitHub-Mark-32px.png\" />View source on GitHub</a>\n",
        "  </td>\n",
        "  <td>\n",
        "    <a href=\"https://github.com/bcs-iitk/BCS_Workshop_Apr_20/raw/master/Machine_Learning/Assignment/ML.ipynb\"><img src=\"https://www.tensorflow.org/images/download_logo_32px.png\" />Download notebook</a>\n",
        "  </td>\n",
        "</table>"
      ]
    },
    {
      "cell_type": "code",
      "metadata": {
        "id": "BiU-x0ujcRkE",
        "colab_type": "code",
        "colab": {}
      },
      "source": [
        "# Copyright (c) 2020 Brain and Cognitive Society, IIT Kanpur [ BCS @IITK ]\n",
        "# Copyright under MIT License, must reference https://github.com/bcs-iitk/BCS_Workshop_Apr_20 if used anywhere else.\n",
        "# Author: Shashi Kant (http://shashikg.github.io/)"
      ],
      "execution_count": 0,
      "outputs": []
    },
    {
      "cell_type": "markdown",
      "metadata": {
        "id": "-6GMP27JdNG2",
        "colab_type": "text"
      },
      "source": [
        "\n",
        "\n",
        "\n",
        "\n",
        "\n",
        "> Note: Do not forget to click on **Copy to Drive** in Google Colab to save a copy of this assignment.\n",
        "\n",
        "![copy2drive](https://github.com/bcs-iitk/BCS_Workshop_Apr_20/raw/master/Machine_Learning/Assignment/copy2drive.png)\n",
        "\n"
      ]
    },
    {
      "cell_type": "markdown",
      "metadata": {
        "id": "UWRTh7z2ZmM2",
        "colab_type": "text"
      },
      "source": [
        "# Assignment 1: Machine Learning\n"
      ]
    },
    {
      "cell_type": "markdown",
      "metadata": {
        "id": "UkJr6Lh9aIem",
        "colab_type": "text"
      },
      "source": [
        "## Question 1: Linear Regression\n",
        "To check whether you are able to build simple linear regression model from scratch or not."
      ]
    },
    {
      "cell_type": "code",
      "metadata": {
        "id": "wq1ZliSEuhTw",
        "colab_type": "code",
        "outputId": "c566aebb-ca17-4474-bf5b-b5f79ac009b2",
        "colab": {
          "base_uri": "https://localhost:8080/",
          "height": 561
        }
      },
      "source": [
        "import numpy as np\n",
        "import matplotlib.pyplot as plt\n",
        "\n",
        "!wget --no-check-certificate https://github.com/bcs-iitk/BCS_Workshop_Apr_20/raw/master/Machine_Learning/Assignment/X.npy -O X.npy\n",
        "!wget --no-check-certificate https://github.com/bcs-iitk/BCS_Workshop_Apr_20/raw/master/Machine_Learning/Assignment/y.npy -O y.npy"
      ],
      "execution_count": 22,
      "outputs": [
        {
          "output_type": "stream",
          "text": [
            "--2020-04-05 15:10:51--  https://github.com/bcs-iitk/BCS_Workshop_Apr_20/raw/master/Machine_Learning/Assignment/X.npy\n",
            "Resolving github.com (github.com)... 140.82.113.3\n",
            "Connecting to github.com (github.com)|140.82.113.3|:443... connected.\n",
            "HTTP request sent, awaiting response... 302 Found\n",
            "Location: https://raw.githubusercontent.com/bcs-iitk/BCS_Workshop_Apr_20/master/Machine_Learning/Assignment/X.npy [following]\n",
            "--2020-04-05 15:10:51--  https://raw.githubusercontent.com/bcs-iitk/BCS_Workshop_Apr_20/master/Machine_Learning/Assignment/X.npy\n",
            "Resolving raw.githubusercontent.com (raw.githubusercontent.com)... 151.101.0.133, 151.101.64.133, 151.101.128.133, ...\n",
            "Connecting to raw.githubusercontent.com (raw.githubusercontent.com)|151.101.0.133|:443... connected.\n",
            "HTTP request sent, awaiting response... 200 OK\n",
            "Length: 528 [application/octet-stream]\n",
            "Saving to: ‘X.npy’\n",
            "\n",
            "\rX.npy                 0%[                    ]       0  --.-KB/s               \rX.npy               100%[===================>]     528  --.-KB/s    in 0s      \n",
            "\n",
            "2020-04-05 15:10:51 (33.9 MB/s) - ‘X.npy’ saved [528/528]\n",
            "\n",
            "--2020-04-05 15:10:53--  https://github.com/bcs-iitk/BCS_Workshop_Apr_20/raw/master/Machine_Learning/Assignment/y.npy\n",
            "Resolving github.com (github.com)... 140.82.114.3\n",
            "Connecting to github.com (github.com)|140.82.114.3|:443... connected.\n",
            "HTTP request sent, awaiting response... 302 Found\n",
            "Location: https://raw.githubusercontent.com/bcs-iitk/BCS_Workshop_Apr_20/master/Machine_Learning/Assignment/y.npy [following]\n",
            "--2020-04-05 15:10:54--  https://raw.githubusercontent.com/bcs-iitk/BCS_Workshop_Apr_20/master/Machine_Learning/Assignment/y.npy\n",
            "Resolving raw.githubusercontent.com (raw.githubusercontent.com)... 151.101.0.133, 151.101.64.133, 151.101.128.133, ...\n",
            "Connecting to raw.githubusercontent.com (raw.githubusercontent.com)|151.101.0.133|:443... connected.\n",
            "HTTP request sent, awaiting response... 200 OK\n",
            "Length: 528 [application/octet-stream]\n",
            "Saving to: ‘y.npy’\n",
            "\n",
            "y.npy               100%[===================>]     528  --.-KB/s    in 0s      \n",
            "\n",
            "2020-04-05 15:10:54 (33.7 MB/s) - ‘y.npy’ saved [528/528]\n",
            "\n"
          ],
          "name": "stdout"
        }
      ]
    },
    {
      "cell_type": "code",
      "metadata": {
        "id": "021fTYdwTkZm",
        "colab_type": "code",
        "colab": {}
      },
      "source": [
        "def load_data_LR():\n",
        "  # Implement this function to read the dataset using the path declared in path_X and path_y\n",
        "  # should return the X and y data\n",
        "  # use np.load() to load the data google it you will get to know how to do it\n",
        "\n",
        "  path_X = \"X.npy\"\n",
        "  path_y = \"y.npy\"\n",
        "\n",
        "  X = np.load(path_X)\n",
        "  y = np.load(path_y)\n",
        "\n",
        "  return X, y"
      ],
      "execution_count": 0,
      "outputs": []
    },
    {
      "cell_type": "code",
      "metadata": {
        "id": "Ngg3QUyTfBxC",
        "colab_type": "code",
        "colab": {}
      },
      "source": [
        "def get_linear_model(X, y):\n",
        "  # This shoudl return a proper linear model without bias of type y = XW\n",
        "  D = X.shape[1]\n",
        "  out_shape = 1\n",
        "  W = np.random.randn(D,out_shape)\n",
        "  y = np.dot(X,W)\n",
        "\n",
        "  return W"
      ],
      "execution_count": 0,
      "outputs": []
    },
    {
      "cell_type": "code",
      "metadata": {
        "id": "c52FIGu-hlzM",
        "colab_type": "code",
        "colab": {}
      },
      "source": [
        "def MSE(y, y_pred):\n",
        "  # should return the mean square error between the actual y and predicted y\n",
        "  error = np.dot(np.transpose(y-y_pred),(y-y_pred))[0]/(2*X.shape[0])\n",
        "\n",
        "  return error"
      ],
      "execution_count": 0,
      "outputs": []
    },
    {
      "cell_type": "code",
      "metadata": {
        "id": "zrBrqA15hCdT",
        "colab_type": "code",
        "colab": {}
      },
      "source": [
        "def train_by_algebra(X, y):\n",
        "  # should return the trained weight 'W' using the linear algebra method i.e. setting dE/dW = 0\n",
        "  weight = np.matmul(np.linalg.inv(np.matmul(np.transpose(X),X)),np.matmul(np.transpose(X),y))\n",
        "  \n",
        "  return weight"
      ],
      "execution_count": 0,
      "outputs": []
    },
    {
      "cell_type": "code",
      "metadata": {
        "id": "kJ_r_R1PixX2",
        "colab_type": "code",
        "colab": {}
      },
      "source": [
        "def train_by_GD(X, y, epochs=5, lr=0.01):\n",
        "  # should return the trained weight 'W' using the gradient descent for number of iterations equals to epochs\n",
        "  # should also return error history int the cariable error_hist.shape = (epochs,); error_hist[i] = mean square error after epoch i-1\n",
        "  # should also print mean square error after each epoch/ iteration\n",
        "  # lr = \"learning rate\" i.e. eta\n",
        "\n",
        "  W = get_linear_model(X,y)\n",
        "  error_hist = [MSE(y,np.dot(X,W))]\n",
        "\n",
        "  for i in range(0,epochs):\n",
        "    W = W - (lr/X.shape[0])*np.matmul(np.transpose(X),(np.matmul(X,W)-y));\n",
        "    print(MSE(y,np.dot(X,W)))\n",
        "    error_hist.append(MSE(y,np.dot(X,W)))\n",
        "\n",
        "  return W, error_hist"
      ],
      "execution_count": 0,
      "outputs": []
    },
    {
      "cell_type": "markdown",
      "metadata": {
        "id": "uLTxFIOgkdjJ",
        "colab_type": "text"
      },
      "source": [
        "### Now write a complete code using the function defined above to learn the model for following cases:"
      ]
    },
    {
      "cell_type": "markdown",
      "metadata": {
        "id": "eYW1AukM378a",
        "colab_type": "text"
      },
      "source": [
        "##### Learn **W** using linear algebra method and prints mean square error between actual y and predicted y. Use `y_pred = XW`. Also plot y_pred and y on different plots."
      ]
    },
    {
      "cell_type": "code",
      "metadata": {
        "id": "AIRs0jB-kOZU",
        "colab_type": "code",
        "outputId": "b4936011-941f-4212-8c19-4f9db6454704",
        "colab": {
          "base_uri": "https://localhost:8080/",
          "height": 279
        }
      },
      "source": [
        "X,y = load_data_LR()\n",
        "W = train_by_algebra(X,y)\n",
        "y_pred = np.dot(X,W)\n",
        "\n",
        "plt.scatter(X,y,color='orange')\n",
        "plt.plot(X,y_pred,color='blue')\n",
        "plt.xlabel('X')\n",
        "plt.ylabel('y')\n",
        "plt.show()\n"
      ],
      "execution_count": 28,
      "outputs": [
        {
          "output_type": "display_data",
          "data": {
            "image/png": "[encoded data removed]",
            "text/plain": [
              "<Figure size 432x288 with 1 Axes>"
            ]
          },
          "metadata": {
            "tags": []
          }
        }
      ]
    },
    {
      "cell_type": "markdown",
      "metadata": {
        "id": "6kP77_sK4CpT",
        "colab_type": "text"
      },
      "source": [
        "##### Learn **W** using gradient descent method for following learning rates, `lr = [0.01, 0.001, 0.0001]` for **10 epochs**. Plot **MSE vs epochs** for each of them.  Also plot y_pred and y on different plots."
      ]
    },
    {
      "cell_type": "code",
      "metadata": {
        "id": "1bac27RT4G2H",
        "colab_type": "code",
        "outputId": "3ce7968e-5215-45ac-98e6-bcfd4d948a92",
        "colab": {
          "base_uri": "https://localhost:8080/",
          "height": 1000
        }
      },
      "source": [
        "lr = [0.01,0.001,0.0001]\n",
        "epochs = [*range(0,11)]\n",
        "for i in lr:\n",
        "  W, error_hist = train_by_GD(X,y,10,i)\n",
        "  plt.plot(epochs,error_hist)\n",
        "  plt.xlabel('Number of epochs')\n",
        "  plt.ylabel('Error History')\n",
        "  plt.show()\n",
        "  plt.scatter(X,y,color='orange')\n",
        "  plt.plot(X,y_pred,color='blue')\n",
        "  plt.xlabel('X')\n",
        "  plt.ylabel('y')\n",
        "  plt.show()\n"
      ],
      "execution_count": 29,
      "outputs": [
        {
          "output_type": "stream",
          "text": [
            "[369.69474523]\n",
            "[312.75762472]\n",
            "[264.65505445]\n",
            "[224.01623663]\n",
            "[189.68307098]\n",
            "[160.67715184]\n",
            "[136.17188618]\n",
            "[115.46893785]\n",
            "[97.97832684]\n",
            "[83.20161636]\n"
          ],
          "name": "stdout"
        },
        {
          "output_type": "display_data",
          "data": {
            "image/png": "[encoded data removed]",
            "text/plain": [
              "<Figure size 432x288 with 1 Axes>"
            ]
          },
          "metadata": {
            "tags": []
          }
        },
        {
          "output_type": "display_data",
          "data": {
            "image/png": "[encoded data removed]",
            "text/plain": [
              "<Figure size 432x288 with 1 Axes>"
            ]
          },
          "metadata": {
            "tags": []
          }
        },
        {
          "output_type": "stream",
          "text": [
            "[280.26956274]\n",
            "[275.80013205]\n",
            "[271.4026799]\n",
            "[267.07604711]\n",
            "[262.81909315]\n",
            "[258.63069586]\n",
            "[254.50975118]\n",
            "[250.4551728]\n",
            "[246.46589191]\n",
            "[242.54085693]\n"
          ],
          "name": "stdout"
        },
        {
          "output_type": "display_data",
          "data": {
            "image/png": "[encoded data removed]",
            "text/plain": [
              "<Figure size 432x288 with 1 Axes>"
            ]
          },
          "metadata": {
            "tags": []
          }
        },
        {
          "output_type": "display_data",
          "data": {
            "image/png": "[encoded data removed]",
            "text/plain": [
              "<Figure size 432x288 with 1 Axes>"
            ]
          },
          "metadata": {
            "tags": []
          }
        },
        {
          "output_type": "stream",
          "text": [
            "[556.60228898]\n",
            "[555.70706383]\n",
            "[554.81328568]\n",
            "[553.92095218]\n",
            "[553.030061]\n",
            "[552.14060981]\n",
            "[551.25259629]\n",
            "[550.3660181]\n",
            "[549.48087292]\n",
            "[548.59715845]\n"
          ],
          "name": "stdout"
        },
        {
          "output_type": "display_data",
          "data": {
            "image/png": "[encoded data removed]",
            "text/plain": [
              "<Figure size 432x288 with 1 Axes>"
            ]
          },
          "metadata": {
            "tags": []
          }
        },
        {
          "output_type": "display_data",
          "data": {
            "image/png": "[encoded data removed]",
            "text/plain": [
              "<Figure size 432x288 with 1 Axes>"
            ]
          },
          "metadata": {
            "tags": []
          }
        }
      ]
    },
    {
      "cell_type": "markdown",
      "metadata": {
        "id": "4zJO-LIvn6sD",
        "colab_type": "text"
      },
      "source": [
        "## Question 2: Image Classification in Tensorflow using Deep Learning\n",
        "To check whether you are able to build a given neural network model in tensorflow or not. First we will build a fully connected NN model second we will build a CNN model."
      ]
    },
    {
      "cell_type": "code",
      "metadata": {
        "id": "7mynGfqRn24b",
        "colab_type": "code",
        "colab": {}
      },
      "source": [
        "import numpy as np\n",
        "import tensorflow as tf\n",
        "import matplotlib.pyplot as plt"
      ],
      "execution_count": 0,
      "outputs": []
    },
    {
      "cell_type": "code",
      "metadata": {
        "id": "s8WKt-qY4agV",
        "colab_type": "code",
        "colab": {}
      },
      "source": [
        "def plot_history(history):\n",
        "  # function to plot accuracy vs epoch\n",
        "\n",
        "  plt.plot(history.history['accuracy'], label='accuracy')\n",
        "  plt.plot(history.history['val_accuracy'], label = 'val_accuracy')\n",
        "  plt.xlabel('Epoch')\n",
        "  plt.ylabel('Accuracy')\n",
        "  plt.legend(loc='lower right')"
      ],
      "execution_count": 0,
      "outputs": []
    },
    {
      "cell_type": "code",
      "metadata": {
        "id": "tCT9Kmhhn5I_",
        "colab_type": "code",
        "colab": {}
      },
      "source": [
        "def load_data_cifar10_norm():\n",
        "  # should return the normalised cifar10 dataset by loading it from tensorflow\n",
        "  # link: https://www.tensorflow.org/api_docs/python/tf/keras/datasets/cifar10/\n",
        "\n",
        "  cifar10 = tf.keras.datasets.cifar10\n",
        "  (x_train, y_train), (x_test, y_test) = cifar10.load_data()\n",
        "\n",
        "  return x_train, y_train, x_test, y_test"
      ],
      "execution_count": 0,
      "outputs": []
    },
    {
      "cell_type": "markdown",
      "metadata": {
        "id": "LDpHSTRPvS9t",
        "colab_type": "text"
      },
      "source": [
        "### Define a fully connected neural network model with following attributes:\n",
        "\n",
        "*   Total number of **hidden layers = 4**, all with **relu** activation\n",
        "*   Number of neurons in **first hidden layer = 7200**\n",
        "*   Number of neurons in **second hidden layer = 2304**\n",
        "*   Number of neurons in **third hidden layer = 1024**\n",
        "*   Number of neurons in **fourth hidden layer = 64**\n"
      ]
    },
    {
      "cell_type": "code",
      "metadata": {
        "id": "VYYQzIWnqU3t",
        "colab_type": "code",
        "colab": {}
      },
      "source": [
        "def build_fc_model(input_shape=(32, 32, 3), num_class=10):\n",
        "  # should return a sequential model defined based on the above attributes\n",
        "  # do not compile the model\n",
        "\n",
        "  model = tf.keras.Sequential([tf.keras.layers.Flatten(input_shape = input_shape),\n",
        "                               tf.keras.layers.Dense(7200,activation = 'relu'),\n",
        "                               tf.keras.layers.Dense(2304,activation = 'relu'),\n",
        "                               tf.keras.layers.Dense(1024,activation = 'relu'),\n",
        "                               tf.keras.layers.Dense(64,activation = 'relu'),\n",
        "                               tf.keras.layers.Dense(num_class,activation = tf.nn.softmax)])\n",
        "\n",
        "  return model"
      ],
      "execution_count": 0,
      "outputs": []
    },
    {
      "cell_type": "markdown",
      "metadata": {
        "id": "pdcQ2yqz1RYH",
        "colab_type": "text"
      },
      "source": [
        "### Define a CNN model with following attribute:\n",
        "\n",
        "*   Total number of **hidden layer = 4**\n",
        "*   After every convolutional layer there must be a MaxPoolingLayer of size (2, 2)\n",
        "*   Total number of convolutional layer = 3, all with **relu** activation.\n",
        "    *    Number of filters in **first convolutional layer = 32**\n",
        "    *    Number of filters in **second convolutional layer = 64**\n",
        "    *    Number of filters in **third convolutional layer = 64**\n",
        "*   After all convolutional layer flatten the output and use **dense layer of 64 neurons**\n",
        "\n"
      ]
    },
    {
      "cell_type": "code",
      "metadata": {
        "id": "T00AYU3D3L1j",
        "colab_type": "code",
        "colab": {}
      },
      "source": [
        "def build_cnn_model(input_shape=(32, 32, 3), num_class=10):\n",
        "  # should return a sequential model defined based on the above attributes\n",
        "  # do not compile the model\n",
        "\n",
        "  model = tf.keras.models.Sequential([tf.keras.layers.Conv2D(32,(3,3),activation=tf.nn.relu,input_shape=input_shape),\n",
        "                                      tf.keras.layers.MaxPooling2D(2,2),\n",
        "                                      tf.keras.layers.Conv2D(64,(3,3),activation=tf.nn.relu),\n",
        "                                      tf.keras.layers.MaxPooling2D(2,2),\n",
        "                                      tf.keras.layers.Conv2D(64,(3,3),activation=tf.nn.relu),\n",
        "                                      tf.keras.layers.MaxPooling2D(2,2),\n",
        "                                      tf.keras.layers.Flatten(),\n",
        "                                      tf.keras.layers.Dense(64,activation = tf.nn.relu),\n",
        "                                      tf.keras.layers.Dense(num_class,activation=tf.nn.softmax)])\n",
        "\n",
        "  return model"
      ],
      "execution_count": 0,
      "outputs": []
    },
    {
      "cell_type": "markdown",
      "metadata": {
        "id": "7SXXUeRp4Urq",
        "colab_type": "text"
      },
      "source": [
        "### Compile and train the fully connected neural network model using the above functions."
      ]
    },
    {
      "cell_type": "code",
      "metadata": {
        "id": "61_XiEUR3eV0",
        "colab_type": "code",
        "outputId": "65b208d5-ca76-4bcb-f2b1-1a31d275ec1f",
        "colab": {
          "base_uri": "https://localhost:8080/",
          "height": 959
        }
      },
      "source": [
        "x_train, y_train, x_test, y_test = load_data_cifar10_norm()\n",
        "\n",
        "x_train = tf.keras.utils.normalize(x_train)\n",
        "x_test = tf.keras.utils.normalize(x_test)\n",
        "\n",
        "model = build_fc_model()\n",
        "sgd = tf.keras.optimizers.SGD(lr=0.01, decay=1e-6, momentum=0.9, nesterov=True)\n",
        "model.compile(optimizer = sgd ,loss = 'sparse_categorical_crossentropy',metrics=['accuracy'],)\n",
        "\n",
        "history = model.fit(x_train, y_train, epochs=10, batch_size=512,\n",
        "                    validation_data=(x_test, y_test))\n",
        "\n",
        "plot_history(history)\n",
        "model.summary()"
      ],
      "execution_count": 35,
      "outputs": [
        {
          "output_type": "stream",
          "text": [
            "Epoch 1/10\n",
            "98/98 [==============================] - 4s 43ms/step - loss: 2.0751 - accuracy: 0.2302 - val_loss: 2.0302 - val_accuracy: 0.2495\n",
            "Epoch 2/10\n",
            "98/98 [==============================] - 4s 41ms/step - loss: 1.9471 - accuracy: 0.2914 - val_loss: 1.8886 - val_accuracy: 0.3073\n",
            "Epoch 3/10\n",
            "98/98 [==============================] - 4s 41ms/step - loss: 1.8793 - accuracy: 0.3166 - val_loss: 1.9579 - val_accuracy: 0.2773\n",
            "Epoch 4/10\n",
            "98/98 [==============================] - 4s 42ms/step - loss: 1.8286 - accuracy: 0.3349 - val_loss: 1.7785 - val_accuracy: 0.3622\n",
            "Epoch 5/10\n",
            "98/98 [==============================] - 4s 42ms/step - loss: 1.8034 - accuracy: 0.3461 - val_loss: 1.7826 - val_accuracy: 0.3516\n",
            "Epoch 6/10\n",
            "98/98 [==============================] - 4s 42ms/step - loss: 1.7787 - accuracy: 0.3584 - val_loss: 1.7710 - val_accuracy: 0.3545\n",
            "Epoch 7/10\n",
            "98/98 [==============================] - 4s 41ms/step - loss: 1.7484 - accuracy: 0.3694 - val_loss: 1.7653 - val_accuracy: 0.3576\n",
            "Epoch 8/10\n",
            "98/98 [==============================] - 4s 41ms/step - loss: 1.7267 - accuracy: 0.3761 - val_loss: 1.8654 - val_accuracy: 0.3228\n",
            "Epoch 9/10\n",
            "98/98 [==============================] - 4s 41ms/step - loss: 1.7210 - accuracy: 0.3794 - val_loss: 1.7355 - val_accuracy: 0.3676\n",
            "Epoch 10/10\n",
            "98/98 [==============================] - 4s 41ms/step - loss: 1.6932 - accuracy: 0.3878 - val_loss: 1.7076 - val_accuracy: 0.3848\n",
            "Model: \"sequential_14\"\n",
            "_________________________________________________________________\n",
            "Layer (type)                 Output Shape              Param #   \n",
            "=================================================================\n",
            "flatten_14 (Flatten)         (None, 3072)              0         \n",
            "_________________________________________________________________\n",
            "dense_70 (Dense)             (None, 7200)              22125600  \n",
            "_________________________________________________________________\n",
            "dense_71 (Dense)             (None, 2304)              16591104  \n",
            "_________________________________________________________________\n",
            "dense_72 (Dense)             (None, 1024)              2360320   \n",
            "_________________________________________________________________\n",
            "dense_73 (Dense)             (None, 64)                65600     \n",
            "_________________________________________________________________\n",
            "dense_74 (Dense)             (None, 10)                650       \n",
            "=================================================================\n",
            "Total params: 41,143,274\n",
            "Trainable params: 41,143,274\n",
            "Non-trainable params: 0\n",
            "_________________________________________________________________\n"
          ],
          "name": "stdout"
        },
        {
          "output_type": "display_data",
          "data": {
            "image/png": "[encoded data removed]",
            "text/plain": [
              "<Figure size 432x288 with 1 Axes>"
            ]
          },
          "metadata": {
            "tags": []
          }
        }
      ]
    },
    {
      "cell_type": "markdown",
      "metadata": {
        "id": "Z_yHXGc47ENb",
        "colab_type": "text"
      },
      "source": [
        "### Compile and train the CNN model using the above functions."
      ]
    },
    {
      "cell_type": "code",
      "metadata": {
        "id": "aM9rueu97Gnq",
        "colab_type": "code",
        "outputId": "faca8fc5-02f2-4fdc-b832-b3ce6795c23f",
        "colab": {
          "base_uri": "https://localhost:8080/",
          "height": 1000
        }
      },
      "source": [
        "x_train, y_train, x_test, y_test = load_data_cifar10_norm()\n",
        "model = build_cnn_model()\n",
        "model.compile(optimizer='adam',loss='sparse_categorical_crossentropy',metrics=['accuracy'])\n",
        "\n",
        "history = model.fit(x_train, y_train, epochs=10, batch_size=512,\n",
        "                    validation_data=(x_test, y_test))\n",
        "\n",
        "plot_history(history)\n",
        "model.summary()"
      ],
      "execution_count": 36,
      "outputs": [
        {
          "output_type": "stream",
          "text": [
            "Epoch 1/10\n",
            "98/98 [==============================] - 2s 23ms/step - loss: 2.9436 - accuracy: 0.1860 - val_loss: 1.8843 - val_accuracy: 0.3039\n",
            "Epoch 2/10\n",
            "98/98 [==============================] - 2s 20ms/step - loss: 1.6938 - accuracy: 0.3750 - val_loss: 1.5425 - val_accuracy: 0.4378\n",
            "Epoch 3/10\n",
            "98/98 [==============================] - 2s 20ms/step - loss: 1.4610 - accuracy: 0.4704 - val_loss: 1.4146 - val_accuracy: 0.4859\n",
            "Epoch 4/10\n",
            "98/98 [==============================] - 2s 20ms/step - loss: 1.3332 - accuracy: 0.5220 - val_loss: 1.3309 - val_accuracy: 0.5305\n",
            "Epoch 5/10\n",
            "98/98 [==============================] - 2s 20ms/step - loss: 1.2288 - accuracy: 0.5627 - val_loss: 1.2475 - val_accuracy: 0.5592\n",
            "Epoch 6/10\n",
            "98/98 [==============================] - 2s 20ms/step - loss: 1.1631 - accuracy: 0.5898 - val_loss: 1.1929 - val_accuracy: 0.5769\n",
            "Epoch 7/10\n",
            "98/98 [==============================] - 2s 20ms/step - loss: 1.0931 - accuracy: 0.6146 - val_loss: 1.1740 - val_accuracy: 0.5939\n",
            "Epoch 8/10\n",
            "98/98 [==============================] - 2s 20ms/step - loss: 1.0316 - accuracy: 0.6378 - val_loss: 1.1087 - val_accuracy: 0.6165\n",
            "Epoch 9/10\n",
            "98/98 [==============================] - 2s 20ms/step - loss: 0.9835 - accuracy: 0.6559 - val_loss: 1.1016 - val_accuracy: 0.6170\n",
            "Epoch 10/10\n",
            "98/98 [==============================] - 2s 20ms/step - loss: 0.9469 - accuracy: 0.6692 - val_loss: 1.0872 - val_accuracy: 0.6198\n",
            "Model: \"sequential_15\"\n",
            "_________________________________________________________________\n",
            "Layer (type)                 Output Shape              Param #   \n",
            "=================================================================\n",
            "conv2d (Conv2D)              (None, 30, 30, 32)        896       \n",
            "_________________________________________________________________\n",
            "max_pooling2d (MaxPooling2D) (None, 15, 15, 32)        0         \n",
            "_________________________________________________________________\n",
            "conv2d_1 (Conv2D)            (None, 13, 13, 64)        18496     \n",
            "_________________________________________________________________\n",
            "max_pooling2d_1 (MaxPooling2 (None, 6, 6, 64)          0         \n",
            "_________________________________________________________________\n",
            "conv2d_2 (Conv2D)            (None, 4, 4, 64)          36928     \n",
            "_________________________________________________________________\n",
            "max_pooling2d_2 (MaxPooling2 (None, 2, 2, 64)          0         \n",
            "_________________________________________________________________\n",
            "flatten_15 (Flatten)         (None, 256)               0         \n",
            "_________________________________________________________________\n",
            "dense_75 (Dense)             (None, 64)                16448     \n",
            "_________________________________________________________________\n",
            "dense_76 (Dense)             (None, 10)                650       \n",
            "=================================================================\n",
            "Total params: 73,418\n",
            "Trainable params: 73,418\n",
            "Non-trainable params: 0\n",
            "_________________________________________________________________\n"
          ],
          "name": "stdout"
        },
        {
          "output_type": "display_data",
          "data": {
            "image/png": "[encoded data removed]",
            "text/plain": [
              "<Figure size 432x288 with 1 Axes>"
            ]
          },
          "metadata": {
            "tags": []
          }
        }
      ]
    },
    {
      "cell_type": "markdown",
      "metadata": {
        "id": "nKwrtPcy750Q",
        "colab_type": "text"
      },
      "source": [
        "### What do you observe? Compare both the model by looking at their Accuracy vs Epoch plot and total numbers of trainable parameters."
      ]
    },
    {
      "cell_type": "code",
      "metadata": {
        "id": "Q2lFRCoL8N_b",
        "colab_type": "code",
        "colab": {
          "base_uri": "https://localhost:8080/",
          "height": 34
        },
        "outputId": "87168fb1-3eb7-44ab-d8b5-9cf4997a1498"
      },
      "source": [
        "print(\"Accuracy is independent of the number of trainable parameters\")"
      ],
      "execution_count": 37,
      "outputs": [
        {
          "output_type": "stream",
          "text": [
            "Accuracy is independent of the number of trainable parameters\n"
          ],
          "name": "stdout"
        }
      ]
    },
    {
      "cell_type": "markdown",
      "metadata": {
        "id": "NlX1GE9f84dN",
        "colab_type": "text"
      },
      "source": [
        "## Question 3: Image Classification in Tensorflow using Transfer Learning\n",
        "In this we will again try to learn a classification model for **cifar10** but by using the concept of transfer learning. "
      ]
    },
    {
      "cell_type": "markdown",
      "metadata": {
        "id": "TMQs8VAJaiZc",
        "colab_type": "text"
      },
      "source": [
        "### Brief description on Transfer Learning:"
      ]
    },
    {
      "cell_type": "markdown",
      "metadata": {
        "id": "velsoC8-KP6B",
        "colab_type": "text"
      },
      "source": [
        "The idea behind transfer learning for image classification is that when you train a model on a very large image dataset like ImageNet, then this model can effectivly serve as generic model of visual world. If you remember, a closer look at every CNN model gives you an idea that every CNN model used to have some sets of convolutional layers followed by a dense layer and finally at last a classification (output) layer. So, here the convolutional layer somewhat act as feature mapping function which maps the input image to an different dimensional space. And finally at the end you apply dense layer to classify the images based on those extracted features. <br>\n",
        "\n",
        "**Inshort this what you do in a CNN model:**\n",
        "![](https://github.com/bcs-iitk/BCS_Workshop_Apr_20/raw/master/Machine_Learning/Assignment/cnn_model.png)\n",
        "\n",
        "So what we will do in transfer learning is that we will use some already pre-trained model which are trained on ImageNet dataset. Will only use its learned convolutional layers as a feature mapping function. And finally will learn a fully connected neural network on those features to classify the images.\n"
      ]
    },
    {
      "cell_type": "markdown",
      "metadata": {
        "id": "203W4I0oMs5v",
        "colab_type": "text"
      },
      "source": [
        "### Attributes of Transfer Learning model to be build\n",
        "\n",
        "*   Pre-trained weights of VGG16 will be used as feature extracter\n",
        "*   After this flatten the output and use dense layer of **64 neurons**\n",
        "\n"
      ]
    },
    {
      "cell_type": "code",
      "metadata": {
        "id": "COUcSjSz9DtQ",
        "colab_type": "code",
        "colab": {}
      },
      "source": [
        "import numpy as np\n",
        "import tensorflow as tf\n",
        "import matplotlib.pyplot as plt\n",
        "from tensorflow.keras.applications.vgg16 import preprocess_input, VGG16"
      ],
      "execution_count": 0,
      "outputs": []
    },
    {
      "cell_type": "code",
      "metadata": {
        "id": "ylCRV_niMhxA",
        "colab_type": "code",
        "colab": {}
      },
      "source": [
        "def plot_history(history):\n",
        "  # function to plot accuracy vs epoch\n",
        "\n",
        "  plt.plot(history.history['accuracy'], label='accuracy')\n",
        "  plt.plot(history.history['val_accuracy'], label = 'val_accuracy')\n",
        "  plt.xlabel('Epoch')\n",
        "  plt.ylabel('Accuracy')\n",
        "  plt.legend(loc='lower right')"
      ],
      "execution_count": 0,
      "outputs": []
    },
    {
      "cell_type": "code",
      "metadata": {
        "id": "ijdwptetMmSL",
        "colab_type": "code",
        "colab": {}
      },
      "source": [
        "def load_data_cifar10():\n",
        "  # should return the normalised cifar10 dataset by loading it from tensorflow\n",
        "  # link: https://www.tensorflow.org/api_docs/python/tf/keras/datasets/cifar10/\n",
        "\n",
        "  cifar10 = tf.keras.datasets.cifar10\n",
        "  (x_train, y_train), (x_test, y_test) = cifar10.load_data()\n",
        "\n",
        "  return preprocess_input(x_train), y_train, preprocess_input(x_test), y_test"
      ],
      "execution_count": 0,
      "outputs": []
    },
    {
      "cell_type": "code",
      "metadata": {
        "id": "8kgkpJfwKhlR",
        "colab_type": "code",
        "colab": {}
      },
      "source": [
        "def build_tl_model(num_class=10):\n",
        "  # should return the ccombined model using the VGG16 conv layers as conv layers\n",
        "  # and for fully connected layer part use the above attributes.\n",
        "\n",
        "  base_model = VGG16(input_shape=(32, 32, 3), include_top=False, weights='imagenet') # this is the conv layers from VGG16\n",
        "  base_model.trainable = False # this ensures that while training the dense layers these weights don't get changed\n",
        "\n",
        "  model = tf.keras.models.Sequential([\n",
        "    # Feature extractor \n",
        "    base_model,\n",
        "\n",
        "    # Flatten and use the attribute given the question to build the dense part\n",
        "    tf.keras.layers.Flatten(),\n",
        "    tf.keras.layers.Dense(64,activation = tf.nn.relu),\n",
        "    tf.keras.layers.Dense(num_class,activation = tf.nn.softmax)\n",
        "  ])\n",
        "\n",
        "  return model"
      ],
      "execution_count": 0,
      "outputs": []
    },
    {
      "cell_type": "markdown",
      "metadata": {
        "id": "_-2kUilyPNJJ",
        "colab_type": "text"
      },
      "source": [
        "### Compile and train the model using above functions, use adam optimiser with learning rate = 0.0001"
      ]
    },
    {
      "cell_type": "code",
      "metadata": {
        "id": "6FzIIP7GPMOt",
        "colab_type": "code",
        "outputId": "21f2bd17-79ec-476a-fac3-06118364d1f4",
        "colab": {
          "base_uri": "https://localhost:8080/",
          "height": 928
        }
      },
      "source": [
        "x_train, y_train, x_test, y_test = load_data_cifar10()\n",
        "model = build_tl_model()\n",
        "model.compile(optimizer='adam',loss='sparse_categorical_crossentropy',metrics=['accuracy'])\n",
        "\n",
        "history = model.fit(x_train, y_train, epochs=10, batch_size=512,\n",
        "                    validation_data=(x_test, y_test))\n",
        "\n",
        "plot_history(history)\n",
        "model.summary()"
      ],
      "execution_count": 42,
      "outputs": [
        {
          "output_type": "stream",
          "text": [
            "Downloading data from https://storage.googleapis.com/tensorflow/keras-applications/vgg16/vgg16_weights_tf_dim_ordering_tf_kernels_notop.h5\n",
            "58892288/58889256 [==============================] - 1s 0us/step\n",
            "Epoch 1/10\n",
            "98/98 [==============================] - 10s 106ms/step - loss: 3.8308 - accuracy: 0.3469 - val_loss: 1.8188 - val_accuracy: 0.4145\n",
            "Epoch 2/10\n",
            "98/98 [==============================] - 9s 87ms/step - loss: 1.5794 - accuracy: 0.4728 - val_loss: 1.4898 - val_accuracy: 0.5060\n",
            "Epoch 3/10\n",
            "98/98 [==============================] - 9s 87ms/step - loss: 1.3409 - accuracy: 0.5413 - val_loss: 1.3617 - val_accuracy: 0.5416\n",
            "Epoch 4/10\n",
            "98/98 [==============================] - 9s 87ms/step - loss: 1.2078 - accuracy: 0.5834 - val_loss: 1.2746 - val_accuracy: 0.5718\n",
            "Epoch 5/10\n",
            "98/98 [==============================] - 9s 87ms/step - loss: 1.1189 - accuracy: 0.6123 - val_loss: 1.2140 - val_accuracy: 0.5922\n",
            "Epoch 6/10\n",
            "98/98 [==============================] - 9s 87ms/step - loss: 1.0544 - accuracy: 0.6353 - val_loss: 1.1793 - val_accuracy: 0.6061\n",
            "Epoch 7/10\n",
            "98/98 [==============================] - 9s 88ms/step - loss: 1.0061 - accuracy: 0.6496 - val_loss: 1.1530 - val_accuracy: 0.6148\n",
            "Epoch 8/10\n",
            "98/98 [==============================] - 9s 88ms/step - loss: 0.9672 - accuracy: 0.6632 - val_loss: 1.1283 - val_accuracy: 0.6204\n",
            "Epoch 9/10\n",
            "98/98 [==============================] - 9s 88ms/step - loss: 0.9320 - accuracy: 0.6747 - val_loss: 1.1186 - val_accuracy: 0.6253\n",
            "Epoch 10/10\n",
            "98/98 [==============================] - 9s 88ms/step - loss: 0.9028 - accuracy: 0.6846 - val_loss: 1.1081 - val_accuracy: 0.6319\n",
            "Model: \"sequential_16\"\n",
            "_________________________________________________________________\n",
            "Layer (type)                 Output Shape              Param #   \n",
            "=================================================================\n",
            "vgg16 (Model)                (None, 1, 1, 512)         14714688  \n",
            "_________________________________________________________________\n",
            "flatten_16 (Flatten)         (None, 512)               0         \n",
            "_________________________________________________________________\n",
            "dense_77 (Dense)             (None, 64)                32832     \n",
            "_________________________________________________________________\n",
            "dense_78 (Dense)             (None, 10)                650       \n",
            "=================================================================\n",
            "Total params: 14,748,170\n",
            "Trainable params: 33,482\n",
            "Non-trainable params: 14,714,688\n",
            "_________________________________________________________________\n"
          ],
          "name": "stdout"
        },
        {
          "output_type": "display_data",
          "data": {
            "image/png": "[encoded data removed]",
            "text/plain": [
              "<Figure size 432x288 with 1 Axes>"
            ]
          },
          "metadata": {
            "tags": []
          }
        }
      ]
    },
    {
      "cell_type": "markdown",
      "metadata": {
        "id": "l0QMGbtcQKNx",
        "colab_type": "text"
      },
      "source": [
        "## Question 4: Reinforcement Learning\n",
        "In this you have to implement and train an RL agent to find a path for a frozen lake problem. "
      ]
    },
    {
      "cell_type": "markdown",
      "metadata": {
        "id": "qH7ubidoNaEv",
        "colab_type": "text"
      },
      "source": [
        "### Frozen Lake Problem Description:"
      ]
    },
    {
      "cell_type": "markdown",
      "metadata": {
        "id": "LTCY_Ip1M9Qc",
        "colab_type": "text"
      },
      "source": [
        "> Imagine there is a frozen lake stretching from your home to your office; you have to walk on the frozen lake to reach your office. But oops! There are holes in the frozen lake so you have to be careful while walking on the frozen lake to avoid getting trapped in the holes. [[src](https://subscription.packtpub.com/book/big_data_and_business_intelligence/9781788836524/3/ch03lvl1sec32/solving-the-frozen-lake-problem)]\n",
        "\n",
        "![frozen-lake](https://static.packt-cdn.com/products/9781788836524/graphics/49f3e058-2f32-40e8-9992-b53d1f57d138.png)\n",
        "\n",
        "\n",
        "Two task you have to do here:\n",
        "\n",
        "*   Implement a frozen lake scenario given the inputs, number of holes (M) and size of the lake (N) (Assume the lake is square). Starting point will be (0, 0) and goal will be to reach at (N-1, N-1)\n",
        "*   Implemenat Q-learning method to learn a path from start to goal.\n",
        "*   Use the following reward scheme: 50 points on reaching the goal, -50 points on stepping on a hole.\n",
        "\n",
        "#### Q-learning\n",
        "Recall from the lecture video that `Q[state, action]` gives you an action state pair to get an optimal policy. Recall the Q-Loss from the lecture video i.e:\n",
        "> $E = ||r + \\gamma \\cdot \\max_{a'} Q(s', a') - Q(s, a)||^2$\n",
        "\n",
        "Use gradient descent to minimise $E$ and work out a learning rule for $Q(s, a)$. \n",
        "> Take $\\max_{a'} Q(s', a')$ and $r$ to be independent of $Q(s, a)$.\n"
      ]
    },
    {
      "cell_type": "markdown",
      "metadata": {
        "id": "pbkIHLK7NFEw",
        "colab_type": "text"
      },
      "source": [
        "### Defining important functions"
      ]
    },
    {
      "cell_type": "code",
      "metadata": {
        "id": "QnnNULcYQNRj",
        "colab_type": "code",
        "colab": {}
      },
      "source": [
        "import numpy as np\n",
        "import matplotlib.pyplot as plt\n",
        "import copy"
      ],
      "execution_count": 0,
      "outputs": []
    },
    {
      "cell_type": "code",
      "metadata": {
        "id": "n9vGeSBZEG-r",
        "colab_type": "code",
        "colab": {}
      },
      "source": [
        "ActionMap = ['Up', 'Right', 'Down', 'Left']"
      ],
      "execution_count": 0,
      "outputs": []
    },
    {
      "cell_type": "code",
      "metadata": {
        "id": "izQzYoXBHVgr",
        "colab_type": "code",
        "colab": {}
      },
      "source": [
        "def get_board(N, M):\n",
        "  # should return an N x N size frozen lake - board with M randomle placed holes.\n",
        "  # use 'S' representation for starting point\n",
        "  # use 'G' representation for goal point\n",
        "  # use 'H' representation for holes\n",
        "  # use 'F' for frozen lakes \n",
        "  # use 'C' for displaying agents current position on the board.\n",
        "  # Refer the representation from the image shown above\n",
        "  import random\n",
        "\n",
        "  board = ['F']*(N*N-2)\n",
        "  board = np.asarray(board,dtype = object)\n",
        "  inds = random.sample(range(0,N*N-2),M)\n",
        "  board[inds] = 'H'\n",
        "  board = np.append(board,'G')\n",
        "  board = np.insert(board,0,'S')\n",
        "  board = board.reshape(N,N)           \n",
        "  \n",
        "  return board"
      ],
      "execution_count": 0,
      "outputs": []
    },
    {
      "cell_type": "code",
      "metadata": {
        "id": "nu6PW4KhIZH7",
        "colab_type": "code",
        "colab": {}
      },
      "source": [
        "def get_reward(board, N, M):\n",
        "  # should return an N x N size reward table for the generated frozen lake scenario\n",
        "  # use 50 reward for 'G' point\n",
        "  # use -50 reward for 'H' point\n",
        "  # o for rest.\n",
        "\n",
        "  reward = []\n",
        "  temp = board.flatten()\n",
        "  for i in range(0,temp.size):\n",
        "    if temp[i] == 'H': reward.append(-50)\n",
        "    elif temp[i] == 'G': reward.append(50)\n",
        "    else: reward.append(0)\n",
        "\n",
        "  reward = np.array(reward)\n",
        "  reward = reward.reshape(N,N)\n",
        "\n",
        "  return reward"
      ],
      "execution_count": 0,
      "outputs": []
    },
    {
      "cell_type": "code",
      "metadata": {
        "id": "B1ueYhO8Ecnh",
        "colab_type": "code",
        "colab": {}
      },
      "source": [
        "class FrozenLake:\n",
        "  def __init__(self, N, M):\n",
        "    # Recall python class, this function is called when you first initialise the class\n",
        "    # Should intialise the board and reward table based on the reward scheme\n",
        "    # Select M numbers of holes randomly\n",
        "\n",
        "    self.board = get_board(N, M)\n",
        "    self.init_board = copy.deepcopy(self.board) \n",
        "    self.reward = get_reward(self.board, N, M)\n",
        "    self.state = (0, 0)\n",
        "    self.finish = 0\n",
        "    self.N = N\n",
        "\n",
        "\n",
        "  def reset(self):\n",
        "    # should reset the env with board to initial state\n",
        "    # hint: set self.state at 0, 0 and use self.init_board to reset self.board\n",
        "\n",
        "    self.state = (0,0)\n",
        "    self.board = copy.deepcopy(self.init_board)\n",
        "    self.board[0,0] = 'C'\n",
        "    self.finish = 0\n",
        "\n",
        "    return self.state\n",
        "  \n",
        "  def step(self, action):\n",
        "    # ===== Action Table =========\n",
        "    #     0 -- UP\n",
        "    #     1 -- RIGHT\n",
        "    #     2 -- DOWN\n",
        "    #     3 -- LEFT\n",
        "    # perform the given action and get update the  self.state, get reward, and update the self.board according to new state\n",
        "    # update the self.board means update the new position with 'C' and replace previous position with {'S', 'F', 'G'} which is actually there according to the self.init_board\n",
        "\n",
        "    if action == 0 :\n",
        "      self.board[self.state] = self.init_board[self.state]\n",
        "      self.state = (self.state[0]-1,self.state[1])\n",
        "      reward = self.reward[self.state]\n",
        "      self.board[self.state] = 'C'\n",
        "    elif action == 1 :\n",
        "      self.board[self.state] = self.init_board[self.state]\n",
        "      self.state = (self.state[0],self.state[1]+1)\n",
        "      reward = self.reward[self.state]\n",
        "      self.board[self.state] = 'C'\n",
        "    elif action == 2 :\n",
        "      self.board[self.state] = self.init_board[self.state]\n",
        "      self.state = (self.state[0]+1,self.state[1])\n",
        "      reward = self.reward[self.state]\n",
        "      self.board[self.state] = 'C'\n",
        "    else :\n",
        "      self.board[self.state] = self.init_board[self.state]\n",
        "      self.state = (self.state[0],self.state[1]-1)\n",
        "      reward = self.reward[self.state]\n",
        "      self.board[self.state] = 'C'\n",
        "    \n",
        "    # status to check if you reached your goal\n",
        "    if self.state == (self.N-1, self.N-1):\n",
        "        self.finish = 1\n",
        "        \n",
        "    return self.state, reward, self.finish\n",
        "  \n",
        "  def get_random_action(self):\n",
        "    # ===== Action Table =========\n",
        "    #     0 -- UP\n",
        "    #     1 -- RIGHT\n",
        "    #     2 -- DOWN\n",
        "    #     3 -- LEFT\n",
        "    # should return a possible random action out of the four\n",
        "    # hint: note that when you are around the corner or sides of the board not all four action will be available for you\n",
        "\n",
        "    if self.state == (0,0):\n",
        "      action = np.random.choice([1,2])\n",
        "    elif self.state == (0,self.N-1):\n",
        "      action = np.random.choice([2,3])\n",
        "    elif self.state == (self.N-1,0):\n",
        "      action = np.random.choice([0,1])\n",
        "    elif self.state[0] == 0 :\n",
        "      action = np.random.choice([1,2,3])\n",
        "    elif self.state[0] == self.N-1 :\n",
        "      action = np.random.choice([0,1,3])\n",
        "    elif self.state[1] == 0 :\n",
        "      action = np.random.choice([0,1,2])\n",
        "    elif self.state[1] == self.N-1 :\n",
        "      action = np.random.choice([0,2,3])\n",
        "    else:\n",
        "      action = np.random.choice([0,1,2,3])\n",
        "\n",
        "    return action    \n",
        "      \n",
        "  def display(self):\n",
        "    print(self.board)"
      ],
      "execution_count": 0,
      "outputs": []
    },
    {
      "cell_type": "markdown",
      "metadata": {
        "id": "oizARLSBNMxB",
        "colab_type": "text"
      },
      "source": [
        "### Environment creation and learning"
      ]
    },
    {
      "cell_type": "code",
      "metadata": {
        "id": "yGXRU7ImRnT6",
        "colab_type": "code",
        "colab": {}
      },
      "source": [
        "def explore_exploit(env, Q, state, episode):\n",
        "  # Recall from the video there are two way how you perform an action in Value Learning\n",
        "  # They are called explore or exploit?\n",
        "  # Notice that if you always select your new action based on maximum Q-value you will never get to see any new path right?\n",
        "  # You have to explore the environment to know new paths\n",
        "  # Write your code here to randomly select whether you want to explore or exploit\n",
        "  # The probability of exploration should be exp(-episode*5e-4)\n",
        "  # for exploration get some random action\n",
        "  # for exploitation get action based on max Q value\n",
        "  import math \n",
        "\n",
        "  if np.random.uniform(0,1) < math.exp(-episode*5*math.exp(-4)) :\n",
        "    action = env.get_random_action()\n",
        "  else :\n",
        "\n",
        "    if state == (0,0):\n",
        "      allowed = {1:Q[state[0],state[1],1],2:Q[state[0],state[1],2]}\n",
        "      action = max(allowed, key=lambda k: allowed[k])\n",
        "    elif state == (0,env.N-1):\n",
        "      allowed = {2:Q[state[0],state[1],2],3:Q[state[0],state[1],3]}\n",
        "      action = max(allowed, key=lambda k: allowed[k])\n",
        "    elif state == (env.N-1,0):\n",
        "      allowed = {0:Q[state[0],state[1],0],1:Q[state[0],state[1],1]}\n",
        "      action = max(allowed, key=lambda k: allowed[k])\n",
        "    elif state[0] == 0 :\n",
        "      allowed = {1:Q[state[0],state[1],1],2:Q[state[0],state[1],2],3:Q[state[0],state[1],3]}\n",
        "      action = max(allowed, key=lambda k: allowed[k])\n",
        "    elif state[0] == env.N-1 :\n",
        "      allowed = {0:Q[state[0],state[1],0],1:Q[state[0],state[1],1],3:Q[state[0],state[1],3]}\n",
        "      action = max(allowed, key=lambda k: allowed[k])\n",
        "    elif state[1] == 0 :\n",
        "      allowed = {0:Q[state[0],state[1],0],1:Q[state[0],state[1],1],2:Q[state[0],state[1],2]}\n",
        "      action = max(allowed, key=lambda k: allowed[k])\n",
        "    elif state[1] == env.N-1 :\n",
        "      allowed = {0:Q[state[0],state[1],0],2:Q[state[0],state[1],2],3:Q[state[0],state[1],3]}\n",
        "      action = max(allowed, key=lambda k: allowed[k])\n",
        "    else:\n",
        "      allowed = {0:Q[state[0],state[1],0],1:Q[state[0],state[1],1],2:Q[state[0],state[1],2],3:Q[state[0],state[1],3]}\n",
        "      action = max(allowed, key=lambda k: allowed[k])\n",
        "\n",
        "  return action"
      ],
      "execution_count": 0,
      "outputs": []
    },
    {
      "cell_type": "code",
      "metadata": {
        "id": "N6ym5P3-LxOz",
        "colab_type": "code",
        "colab": {}
      },
      "source": [
        "def init_env_and_learn(N=6, M=12, gamma=0.8, lr=0.8):\n",
        "  # gamma: gamma param of total discounted reward\n",
        "  # lr: learning rate for Q updates\n",
        "  # N = grid size of frozen lake wil be N x N\n",
        "  # M = Number of holes\n",
        "  # returns env, Q-function, reward\n",
        "\n",
        "  env = FrozenLake(N, M)\n",
        "  Q = np.zeros((N, N, 4))\n",
        "\n",
        "  total_episodes = 3000 # i.e. the number of times your RL agent will run through the board.\n",
        "  max_steps = N*N*3 # maximum number of steps to perform\n",
        "\n",
        "  rewards = []\n",
        "  for episode in range(total_episodes):\n",
        "    state = env.reset()\n",
        "    total_rewards = 0\n",
        "\n",
        "    for step in range(max_steps):\n",
        "      action = explore_exploit(env, Q, state, episode)\n",
        "\n",
        "      # Write your code here ----------------------------------------------------------\n",
        "      # Should perform the action get reward, new_state, finish status and update the Q value\n",
        "      new_state, reward, finish = env.step(action)\n",
        "      \n",
        "      Q[state[0],state[1],action] = Q[state[0],state[1],action]*(1-lr) + lr*(reward + gamma*np.argmax(Q[new_state[0],new_state[1],:]))\n",
        "      # -------------------------------------------------------------------------------\n",
        "      total_rewards += reward\n",
        "      state = new_state\n",
        "      \n",
        "      if finish == 1: \n",
        "          break\n",
        "\n",
        "    rewards.append(total_rewards)\n",
        "\n",
        "  return env, Q, rewards"
      ],
      "execution_count": 0,
      "outputs": []
    },
    {
      "cell_type": "code",
      "metadata": {
        "id": "6z8EuJ6sXCTK",
        "colab_type": "code",
        "colab": {}
      },
      "source": [
        "def travel_path(env, Q):\n",
        "  # write a function to display a sequence of path performed using the learned Q-values\n",
        "  # show initial and final frozen lake board \n",
        "  # to perform an action at a state simply take max of Q at that state\n",
        "\n",
        "  print(env.init_board)\n",
        "  total_rewards = 0\n",
        "\n",
        "  state = env.reset()\n",
        "\n",
        "  for step in range(env.N*env.N*3):\n",
        "    if state == (0,0):\n",
        "      allowed = {1:Q[state[0],state[1],1],2:Q[state[0],state[1],2]}\n",
        "      action = max(allowed, key=lambda k: allowed[k])\n",
        "    elif state == (0,env.N-1):\n",
        "      allowed = {2:Q[state[0],state[1],2],3:Q[state[0],state[1],3]}\n",
        "      action = max(allowed, key=lambda k: allowed[k])\n",
        "    elif state == (env.N-1,0):\n",
        "      allowed = {0:Q[state[0],state[1],0],1:Q[state[0],state[1],1]}\n",
        "      action = max(allowed, key=lambda k: allowed[k])\n",
        "    elif state[0] == 0 :\n",
        "      allowed = {1:Q[state[0],state[1],1],2:Q[state[0],state[1],2],3:Q[state[0],state[1],3]}\n",
        "      action = max(allowed, key=lambda k: allowed[k])\n",
        "    elif state[0] == env.N-1 :\n",
        "      allowed = {0:Q[state[0],state[1],0],1:Q[state[0],state[1],1],3:Q[state[0],state[1],3]}\n",
        "      action = max(allowed, key=lambda k: allowed[k])\n",
        "    elif state[1] == 0 :\n",
        "      allowed = {0:Q[state[0],state[1],0],1:Q[state[0],state[1],1],2:Q[state[0],state[1],2]}\n",
        "      action = max(allowed, key=lambda k: allowed[k])\n",
        "    elif state[1] == env.N-1 :\n",
        "      allowed = {0:Q[state[0],state[1],0],2:Q[state[0],state[1],2],3:Q[state[0],state[1],3]}\n",
        "      action = max(allowed, key=lambda k: allowed[k])\n",
        "    else:\n",
        "      allowed = {0:Q[state[0],state[1],0],1:Q[state[0],state[1],1],2:Q[state[0],state[1],2],3:Q[state[0],state[1],3]}\n",
        "      action = max(allowed, key=lambda k: allowed[k])\n",
        "\n",
        "\n",
        "      # Write your code here ----------------------------------------------------------\n",
        "      # Should perform the action get reward, new_state, finish status and update the Q value\n",
        "    new_state, reward, finish = env.step(action)\n",
        "\n",
        "    env.board[state] = ActionMap[action]\n",
        "\n",
        "    total_rewards += reward\n",
        "    state = new_state\n",
        "      \n",
        "    if finish == 1: \n",
        "      break\n",
        "\n",
        "  env.display()    \n",
        "\n",
        "  return"
      ],
      "execution_count": 0,
      "outputs": []
    },
    {
      "cell_type": "markdown",
      "metadata": {
        "id": "Ios3sB8ZYDTN",
        "colab_type": "text"
      },
      "source": [
        "### Use N = 6, M = 10 and learn the models for following sets of gamma and lr:\n",
        "\n",
        "*   `(gamma, lr) = (0.8, 0.8)`\n",
        "*   `(gamma, lr) = (0.95, 0.8)`\n",
        "*   `(gamma, lr) = (0.6, 0.8)`\n",
        "*   `(gamma, lr) = (0.8, 0.95)`\n",
        "*   `(gamma, lr) = (0.8, 0.1)`\n",
        "\n",
        "Plot rewards vs episode for each of them and compare.\n",
        "\n"
      ]
    },
    {
      "cell_type": "code",
      "metadata": {
        "id": "1BB8d1_3MhsL",
        "colab_type": "code",
        "outputId": "186975f3-3b46-4b47-d7ad-db2700aa1751",
        "colab": {
          "base_uri": "https://localhost:8080/",
          "height": 1000
        }
      },
      "source": [
        "set_s = [(0.8,0.8),(0.95,0.8),(0.6,0.8),(0.8,0.95),(0.8,0.1)]\n",
        "\n",
        "for (gamma,lr) in set_s :\n",
        "  env, Q, rewards = init_env_and_learn(6,12,gamma,lr)\n",
        "  #print(rewards)\n",
        "  plt.plot([*range(1,3001)],rewards,'r')\n",
        "  plt.show()\n"
      ],
      "execution_count": 51,
      "outputs": [
        {
          "output_type": "display_data",
          "data": {
            "image/png": "[encoded data removed]",
            "text/plain": [
              "<Figure size 432x288 with 1 Axes>"
            ]
          },
          "metadata": {
            "tags": []
          }
        },
        {
          "output_type": "display_data",
          "data": {
            "image/png": "[encoded data removed]",
            "text/plain": [
              "<Figure size 432x288 with 1 Axes>"
            ]
          },
          "metadata": {
            "tags": []
          }
        },
        {
          "output_type": "display_data",
          "data": {
            "image/png": "[encoded data removed]",
            "text/plain": [
              "<Figure size 432x288 with 1 Axes>"
            ]
          },
          "metadata": {
            "tags": []
          }
        },
        {
          "output_type": "display_data",
          "data": {
            "image/png": "[encoded data removed]",
            "text/plain": [
              "<Figure size 432x288 with 1 Axes>"
            ]
          },
          "metadata": {
            "tags": []
          }
        },
        {
          "output_type": "display_data",
          "data": {
            "image/png": "[encoded data removed]",
            "text/plain": [
              "<Figure size 432x288 with 1 Axes>"
            ]
          },
          "metadata": {
            "tags": []
          }
        }
      ]
    },
    {
      "cell_type": "markdown",
      "metadata": {
        "id": "yI5oHjVbZkIW",
        "colab_type": "text"
      },
      "source": [
        "### Use N = 6, M = 10 and learn a models with (gamma, lr) = (0.8, 0.8)\n",
        "After learning the model, display a path traveled from source to goal."
      ]
    },
    {
      "cell_type": "code",
      "metadata": {
        "id": "RtDOaUEeMi-0",
        "colab_type": "code",
        "outputId": "0685c8d4-9f6b-4159-f05b-b84d76c10543",
        "colab": {
          "base_uri": "https://localhost:8080/",
          "height": 221
        }
      },
      "source": [
        "env, Q, rewards = init_env_and_learn()\n",
        "travel_path(env,Q)"
      ],
      "execution_count": 66,
      "outputs": [
        {
          "output_type": "stream",
          "text": [
            "[['S' 'H' 'F' 'H' 'F' 'F']\n",
            " ['F' 'H' 'F' 'H' 'F' 'F']\n",
            " ['F' 'F' 'H' 'H' 'H' 'F']\n",
            " ['F' 'F' 'F' 'H' 'H' 'F']\n",
            " ['F' 'F' 'H' 'H' 'F' 'H']\n",
            " ['F' 'F' 'F' 'F' 'F' 'G']]\n",
            "[['Down' 'H' 'F' 'H' 'F' 'F']\n",
            " ['Down' 'H' 'F' 'H' 'F' 'F']\n",
            " ['Right' 'Down' 'H' 'H' 'H' 'F']\n",
            " ['F' 'C' 'Left' 'H' 'H' 'F']\n",
            " ['F' 'F' 'H' 'H' 'F' 'H']\n",
            " ['F' 'F' 'F' 'F' 'F' 'G']]\n"
          ],
          "name": "stdout"
        }
      ]
    }
  ]
}